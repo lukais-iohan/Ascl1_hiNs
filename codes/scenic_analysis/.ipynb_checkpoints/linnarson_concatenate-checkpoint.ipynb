{
 "cells": [
  {
   "cell_type": "code",
   "execution_count": 1,
   "id": "1ad49543-7655-49f5-89b1-b907cb42f58a",
   "metadata": {
    "tags": []
   },
   "outputs": [],
   "source": [
    "import pandas as pd\n",
    "import anndata\n",
    "import numpy as np\n",
    "import scanpy as sc\n",
    "import loompy\n",
    "from scipy import io\n",
    "import glob"
   ]
  },
  {
   "cell_type": "code",
   "execution_count": null,
   "id": "e1b0e4d9-97ac-45f3-a0ba-993cd390a63e",
   "metadata": {
    "tags": []
   },
   "outputs": [],
   "source": [
    "\n",
    "\n",
    "# search all files inside a specific folder\n",
    "# *.* means file name with any extension\n",
    "dir_path = r'../data/*.*'\n",
    "adata_objs = glob.glob(dir_path)\n",
    "adata_objs.sort()\n",
    "adata_sub = []\n",
    "import os\n",
    "\n",
    "# get all files inside a specific folder\n",
    "dir_path = r'../data/'\n",
    "adata_names = []\n",
    "for path in os.scandir(dir_path):\n",
    "    if path.is_file():\n",
    "        adata_names.append(path.name)\n",
    "\n",
    "adata_names.sort()"
   ]
  },
  {
   "cell_type": "code",
   "execution_count": null,
   "id": "f51f4d9c-cddd-4c44-a644-7d68d881ac31",
   "metadata": {
    "tags": []
   },
   "outputs": [],
   "source": [
    "### Concantenate of astrocytes and neurons from linnarson mouse-development study: http://mousebrain.org/\n",
    "\n",
    "for i in range(0,len(adata_objs)):\n",
    "    adata = anndata.read_loom(adata_objs[i],sparse = True,cleanup=True)\n",
    "    adata.obs['dataset'] = adata_names[i]\n",
    "    adata.obs['cells'] = adata.obs.index\n",
    "    adata.obs.index = adata.obs['cells'] + '.' + adata.obs['dataset']\n",
    "    adata.obs_names_make_unique()\n",
    "    adata.var_names_make_unique()\n",
    "    adata_sub.append(adata)\n",
    "\n",
    "linnarson_concat = adata_sub[0].concatenate(adata_sub[1],adata_sub[2],adata_sub[3],adata_sub[4],adata_sub[5],adata_sub[6],adata_sub[7],adata_sub[8],\n",
    "    adata_sub[9],adata_sub[10],adata_sub[11],adata_sub[12],adata_sub[13],adata_sub[14],adata_sub[15],adata_sub[16],adata_sub[17],adata_sub[18],\n",
    "    join='outer',batch_key = 'dataset')"
   ]
  },
  {
   "cell_type": "code",
   "execution_count": 9,
   "id": "efd69c8b-dde8-420b-85d3-6173e7848c6a",
   "metadata": {},
   "outputs": [],
   "source": [
    "#### Get sparse matrix, metadata and genes from anndata object\n",
    "io.mmwrite('../linnarson', linnarson_concat.X.T)\n",
    "linnarson_concat.obs.to_csv('../linnarson_meta.csv')\n",
    "linnarson_concat.var.to_csv('../linnarson_genes.csv')"
   ]
  }
 ],
 "metadata": {
  "kernelspec": {
   "display_name": "Python 3 (ipykernel)",
   "language": "python",
   "name": "python3"
  },
  "language_info": {
   "codemirror_mode": {
    "name": "ipython",
    "version": 3
   },
   "file_extension": ".py",
   "mimetype": "text/x-python",
   "name": "python",
   "nbconvert_exporter": "python",
   "pygments_lexer": "ipython3",
   "version": "3.8.15"
  }
 },
 "nbformat": 4,
 "nbformat_minor": 5
}
