{
 "cells": [
  {
   "cell_type": "code",
   "execution_count": null,
   "id": "8a481a00-e534-4976-886f-7ee5cd1c3ba2",
   "metadata": {},
   "outputs": [],
   "source": [
    "# import dependencies\n",
    "import os\n",
    "import warnings\n",
    "import numpy as np\n",
    "import pandas as pd\n",
    "import scanpy as sc\n",
    "import loompy as lp\n",
    "from MulticoreTSNE import MulticoreTSNE as TSNE"
   ]
  },
  {
   "cell_type": "code",
   "execution_count": null,
   "id": "0616aa0e-da20-4ff3-8caf-2af8fc6c9e63",
   "metadata": {},
   "outputs": [],
   "source": [
    "### Pipeline based on Scenic python script: https://github.com/aertslab/pySCENIC\n",
    "\n",
    "# path to unfiltered loom file (this will be created in the optional steps below)\n",
    "f_loom_path_unfilt = \"results/INH_unfiltered.loom\" # test dataset, n=500 cells\n",
    "\n",
    "# # path to loom file with basic filtering applied (this will be created in the \"initial filtering\" step below). Optional.\n",
    "f_loom_path_scenic = \"results/INH_filtered_scenic.loom\"\n",
    "\n",
    "# path to anndata object, which will be updated to store Scanpy results as they are generated below\n",
    "f_anndata_path = \"results/INH_anndata.h5ad\"\n"
   ]
  },
  {
   "cell_type": "code",
   "execution_count": null,
   "id": "05d0b2ee-5e1c-4727-a183-69cf7bc54f25",
   "metadata": {},
   "outputs": [],
   "source": [
    "sc.settings.verbosity = 2 # verbosity: errors (0), warnings (1), info (2), hints (3)\n",
    "sc.logging.print_versions()\n",
    "sc.set_figure_params(dpi=150, fontsize=10, dpi_save=600)"
   ]
  },
  {
   "cell_type": "code",
   "execution_count": null,
   "id": "f457566d-c1b0-4c64-9d50-c12d83c3132a",
   "metadata": {},
   "outputs": [],
   "source": [
    "\n",
    "# Set maximum number of jobs for Scanpy.\n",
    "sc.settings.njobs = 6"
   ]
  },
  {
   "cell_type": "code",
   "execution_count": null,
   "id": "1f97f201-3889-4f4d-b9e7-4bd5f3eaebac",
   "metadata": {},
   "outputs": [],
   "source": [
    "f_exprMat = 'resources/all_data_INH.csv'\n",
    "\n",
    "meta_INH = pd.read_csv('resources/meta_INH.csv',index_col=0)\n",
    "\n",
    "adata = sc.read_csv(f_exprMat)"
   ]
  },
  {
   "cell_type": "code",
   "execution_count": null,
   "id": "21211aa1-6bd2-49c8-8312-0f86cb65287f",
   "metadata": {},
   "outputs": [],
   "source": [
    "row_attrs = { \n",
    "    \"Gene\": np.array(adata.var.index) ,\n",
    "}\n",
    "col_attrs = { \n",
    "    \"CellID\":  np.array(adata.obs.index) ,\n",
    "    \"dataset\": np.array(meta_INH.dataset),\n",
    "    \"nGene\": np.array( np.sum(adata.X.transpose()>0 , axis=0)).flatten() ,\n",
    "    \"nUMI\": np.array( np.sum(adata.X.transpose() , axis=0)).flatten() ,\n",
    "}\n",
    "\n",
    "lp.create( f_loom_path_unfilt, adata.X.transpose(), row_attrs, col_attrs )"
   ]
  },
  {
   "cell_type": "code",
   "execution_count": null,
   "id": "1208acd2-c629-4815-8ada-6c62604d8723",
   "metadata": {},
   "outputs": [],
   "source": [
    "# read unfiltered data from a loom file\n",
    "adata = sc.read_loom( f_loom_path_unfilt )"
   ]
  },
  {
   "cell_type": "code",
   "execution_count": null,
   "id": "26d0a1c5-98ef-40c2-a26e-bae0085c6f4f",
   "metadata": {},
   "outputs": [],
   "source": [
    "nCountsPerGene = np.sum(adata.X, axis=0)\n",
    "nCellsPerGene = np.sum(adata.X>0, axis=0)\n",
    "\n",
    "# Show info\n",
    "print(\"Number of counts (in the dataset units) per gene:\", nCountsPerGene.min(), \" - \" ,nCountsPerGene.max())\n",
    "print(\"Number of cells in which each gene is detected:\", nCellsPerGene.min(), \" - \" ,nCellsPerGene.max())"
   ]
  },
  {
   "cell_type": "code",
   "execution_count": null,
   "id": "a1808ada-e22d-473b-8892-05560f58f790",
   "metadata": {},
   "outputs": [],
   "source": [
    "nCells=adata.X.shape[0]\n",
    "\n",
    "# pySCENIC thresholds\n",
    "minCountsPerGene=3*.01*nCells # 3 counts in 1% of cells\n",
    "print(\"minCountsPerGene: \", minCountsPerGene)\n",
    "\n",
    "minSamples=.01*nCells # 1% of cells\n",
    "print(\"minSamples: \", minSamples)"
   ]
  },
  {
   "cell_type": "code",
   "execution_count": null,
   "id": "fad68a11-eb68-4e1c-9404-bc1f2450751e",
   "metadata": {},
   "outputs": [],
   "source": [
    "# simply compute the number of genes per cell (computers 'n_genes' column)\n",
    "sc.pp.filter_cells(adata, min_genes=0)\n",
    "# mito and genes/counts cuts\n",
    "mito_genes = adata.var_names.str.startswith('MT-')\n",
    "# for each cell compute fraction of counts in mito genes vs. all genes\n",
    "adata.obs['percent_mito'] = np.sum(\n",
    "    adata[:, mito_genes].X, axis=1).A1 / np.sum(adata.X, axis=1).A1\n",
    "# add the total counts per cell as observations-annotation to adata\n",
    "adata.obs['n_counts'] = adata.X.sum(axis=1).A1"
   ]
  },
  {
   "cell_type": "code",
   "execution_count": null,
   "id": "57a35567-91cc-4d45-aefa-4448ee9923fc",
   "metadata": {},
   "outputs": [],
   "source": [
    "fig, (ax1, ax2, ax3) = plt.subplots(1, 3, figsize=(12, 4), dpi=150, sharey=False)\n",
    "\n",
    "sns.distplot( adata.obs['n_genes'], ax=ax1, norm_hist=True, bins=100)\n",
    "sns.distplot( adata.obs['n_counts'], ax=ax2, norm_hist=True, bins=100)\n",
    "sns.distplot( adata.obs['percent_mito'], ax=ax3, norm_hist=True, bins=100)\n",
    "\n",
    "ax1.title.set_text('Number of genes expressed per cell')\n",
    "ax2.title.set_text('Counts per cell')\n",
    "ax3.title.set_text('Mitochondrial read fraction per cell')\n",
    "\n",
    "fig.text(-0.01, 0.5, 'Frequency', ha='center', va='center', rotation='vertical', size='x-large')\n",
    "\n",
    "fig.tight_layout()\n"
   ]
  },
  {
   "cell_type": "code",
   "execution_count": null,
   "id": "b0616aab-b2dd-4d4d-9cfb-4cb4f643d076",
   "metadata": {},
   "outputs": [],
   "source": [
    "sc.pl.violin(adata, ['n_genes', 'n_counts', 'percent_mito'],\n",
    "    jitter=0.4, multi_panel=True )"
   ]
  },
  {
   "cell_type": "code",
   "execution_count": null,
   "id": "f2f9117e-62d0-427e-abaa-ed5428244c7f",
   "metadata": {},
   "outputs": [],
   "source": [
    "sc.pl.scatter(adata, x='n_counts', y='n_genes', color='percent_mito')"
   ]
  },
  {
   "cell_type": "code",
   "execution_count": null,
   "id": "c168e47f-751f-4acc-9960-77e8158bc26c",
   "metadata": {},
   "outputs": [],
   "source": [
    "# initial cuts\n",
    "sc.pp.filter_cells(adata, min_genes=200 )\n",
    "sc.pp.filter_genes(adata, min_cells=3 )"
   ]
  },
  {
   "cell_type": "code",
   "execution_count": null,
   "id": "93c31171-8093-476a-917b-ec3c07e8ecce",
   "metadata": {},
   "outputs": [],
   "source": [
    "adata = adata[adata.obs['n_genes'] < 4000, :]\n",
    "adata = adata[adata.obs['percent_mito'] < 0.05, :]"
   ]
  },
  {
   "cell_type": "code",
   "execution_count": null,
   "id": "87a90649-854b-4960-96e9-0dcf29d661a7",
   "metadata": {},
   "outputs": [],
   "source": [
    "adata"
   ]
  },
  {
   "cell_type": "code",
   "execution_count": null,
   "id": "5ec0c260-6d97-45fd-b3d1-de099d100278",
   "metadata": {},
   "outputs": [],
   "source": [
    "adata.write( f_anndata_path )"
   ]
  },
  {
   "cell_type": "code",
   "execution_count": null,
   "id": "4535c74d-1671-40bb-91c6-8130420c412d",
   "metadata": {},
   "outputs": [],
   "source": [
    "adata.obs['dataset']"
   ]
  },
  {
   "cell_type": "code",
   "execution_count": null,
   "id": "5608a8e2-45e0-48bd-96ba-2ae86eee4ff3",
   "metadata": {},
   "outputs": [],
   "source": [
    "# create basic row and column attributes for the loom file:\n",
    "row_attrs = {\n",
    "    \"Gene\": np.array(adata.var_names) ,\n",
    "}\n",
    "col_attrs = {\n",
    "    \"CellID\": np.array(adata.obs_names) ,\n",
    "    \"dataset\": np.array(adata.obs['dataset']),\n",
    "    \"nGene\": np.array( np.sum(adata.X.transpose()>0 , axis=0)).flatten() ,\n",
    "    \"nUMI\": np.array( np.sum(adata.X.transpose() , axis=0)).flatten() ,\n",
    "}\n",
    "lp.create( f_loom_path_scenic, adata.X.transpose(), row_attrs, col_attrs)"
   ]
  },
  {
   "cell_type": "code",
   "execution_count": null,
   "id": "962f1f32-3cad-44c6-b661-1735aea28cd1",
   "metadata": {},
   "outputs": [],
   "source": [
    "adata.raw = adata\n",
    "\n",
    "# Total-count normalize (library-size correct) to 10,000 reads/cell\n",
    "sc.pp.normalize_per_cell(adata, counts_per_cell_after=1e4)\n",
    "\n",
    "# log transform the data.\n",
    "sc.pp.log1p(adata)\n",
    "\n",
    "# identify highly variable genes.\n",
    "sc.pp.highly_variable_genes(adata, min_mean=0.0125, max_mean=3, min_disp=0.5)\n",
    "sc.pl.highly_variable_genes(adata)\n",
    "\n",
    "# keep only highly variable genes:\n",
    "adata = adata[:, adata.var['highly_variable']]\n",
    "\n",
    "# regress out total counts per cell and the percentage of mitochondrial genes expressed\n",
    "sc.pp.regress_out(adata, ['n_counts', 'percent_mito'] ) #, n_jobs=args.threads)\n",
    "\n",
    "# scale each gene to unit variance, clip values exceeding SD 10.\n",
    "sc.pp.scale(adata, max_value=10)\n",
    "\n",
    "# update the anndata file:\n",
    "adata.write( f_anndata_path )"
   ]
  },
  {
   "cell_type": "code",
   "execution_count": null,
   "id": "eb9db74a-f231-4034-9109-ab6b533203f0",
   "metadata": {},
   "outputs": [],
   "source": [
    "sc.tl.pca(adata, svd_solver='arpack')\n",
    "sc.pl.pca_variance_ratio(adata, log=True)\n",
    "adata.write( f_anndata_path )"
   ]
  },
  {
   "cell_type": "code",
   "execution_count": null,
   "id": "bb341e51-b656-486d-acb3-6caa386b1c69",
   "metadata": {},
   "outputs": [],
   "source": [
    "# neighborhood graph of cells (determine optimal number of PCs here)\n",
    "sc.pp.neighbors(adata, n_neighbors=15, n_pcs=30)\n",
    "# compute UMAP\n",
    "sc.tl.umap(adata)\n",
    "# tSNE\n",
    "tsne = TSNE( n_jobs=6 )\n",
    "adata.obsm['X_tsne'] = tsne.fit_transform( adata.X )\n",
    "adata.write( f_anndata_path )"
   ]
  },
  {
   "cell_type": "code",
   "execution_count": null,
   "id": "1d128b45-eceb-4a20-a7b8-c6b601a863ef",
   "metadata": {},
   "outputs": [],
   "source": [
    "f_tfs = pd.read_csv(\"resources/allTFs_hg38.txt\",header=None) # human\n",
    "\n",
    "hvg = np.array(adata.var.index)\n",
    "expressed_tfs = []\n",
    "for t in np.array(f_tfs[0]):\n",
    "    if t in hvg:\n",
    "        expressed_tfs.append(t)\n",
    "print('Number of highly variable transcription factors', len(expressed_tfs))"
   ]
  },
  {
   "cell_type": "code",
   "execution_count": null,
   "id": "de559a99-2b4e-418c-adec-9debb0b62d32",
   "metadata": {},
   "outputs": [],
   "source": [
    "with open('results/hv_tfs_INH.txt', 'w') as f:\n",
    "    f.write('\\n'.join(expressed_tfs))"
   ]
  },
  {
   "cell_type": "code",
   "execution_count": null,
   "id": "2071d8f7-3865-447d-aff0-345b573de103",
   "metadata": {},
   "outputs": [],
   "source": [
    "### RUn SCENIC\n",
    "\n",
    "f_loom_path_scenic = \"results/INH_filtered_scenic.loom\"\n",
    "f_hgv_TFs = \"results/hv_tfs_INH.txt\"\n",
    "\n",
    "!pyscenic grn {f_loom_path_scenic} {f_hgv_TFs} -o adj_INH.csv --num_workers 6"
   ]
  },
  {
   "cell_type": "code",
   "execution_count": null,
   "id": "0f88ca31-4d3e-44b2-a997-bd2eef221f41",
   "metadata": {},
   "outputs": [],
   "source": [
    "import glob\n",
    "# ranking databases\n",
    "f_db_glob = \"database_hg38/*feather\"\n",
    "f_db_names = ' '.join( glob.glob(f_db_glob) )\n",
    "\n",
    "# motif databases\n",
    "f_motif_path = \"resources/motifs-v9-nr.hgnc-m0.001-o0.0.tbl\""
   ]
  },
  {
   "cell_type": "code",
   "execution_count": null,
   "id": "2e120c37-35cb-40f1-9b6f-8b2ec7970fbd",
   "metadata": {},
   "outputs": [],
   "source": [
    "!pyscenic ctx adj_INH.csv \\\n",
    "    {f_db_names} \\\n",
    "    --annotations_fname {f_motif_path} \\\n",
    "    --expression_mtx_fname {f_loom_path_scenic} \\\n",
    "    --output reg_INH.csv \\\n",
    "    --mask_dropouts \\\n",
    "    --num_workers 6"
   ]
  },
  {
   "cell_type": "code",
   "execution_count": null,
   "id": "70e2004e-72b7-4c3c-b027-6dc223baf326",
   "metadata": {},
   "outputs": [],
   "source": [
    "import os, sys, glob, pickle\n",
    "import operator as op\n",
    "\n",
    "import pandas as pd\n",
    "import seaborn as sns\n",
    "import numpy as np\n",
    "import scanpy as sc\n",
    "import loompy as lp\n",
    "import matplotlib as mpl\n",
    "import matplotlib.pyplot as plt\n",
    "from matplotlib.pyplot import rc_context\n",
    "\n",
    "\n",
    "from pyscenic.export import add_scenic_metadata\n",
    "from pyscenic.utils import load_motifs\n",
    "from pyscenic.transform import df2regulons\n",
    "from pyscenic.binarization import binarize\n",
    "from pyscenic.rss import regulon_specificity_scores\n",
    "from pyscenic.plotting import plot_binarization, plot_rss\n",
    "\n",
    "from IPython.display import HTML, display"
   ]
  },
  {
   "cell_type": "code",
   "execution_count": null,
   "id": "05964220-63b2-4b26-9937-cb708612f3cc",
   "metadata": {},
   "outputs": [],
   "source": [
    "df_motifs_INH = load_motifs('results/reg_INH.csv')\n",
    "df_motifs_INH"
   ]
  },
  {
   "cell_type": "code",
   "execution_count": null,
   "id": "6b66b579-90c1-4b63-b6b9-3f5d1db57b37",
   "metadata": {},
   "outputs": [],
   "source": [
    "BASE_URL = 'http://motifcollections.aertslab.org/v9/logos/'\n",
    "COLUMN_NAME_LOGO = 'MotifLogo'\n",
    "COLUMN_NAME_MOTIF_ID = 'MotifID'\n",
    "COLUMN_NAME_TARGETS = 'TargetGenes'\n",
    "FIGURES_FOLDERNAME = 'figures/'"
   ]
  },
  {
   "cell_type": "code",
   "execution_count": null,
   "id": "cb09b2ad-a372-4024-be52-d14793b66aee",
   "metadata": {},
   "outputs": [],
   "source": [
    "### Set up some helper functions first\n",
    "def savesvg(fname: str, fig, folder: str=FIGURES_FOLDERNAME) -> None:\n",
    "    \"\"\"\n",
    "    Save figure as vector-based SVG image format.\n",
    "    \"\"\"\n",
    "    fig.tight_layout()\n",
    "    fig.savefig(os.path.join(folder, fname), format='svg')\n",
    "\n",
    "def display_logos(df: pd.DataFrame, top_target_genes: int = 3, base_url: str = BASE_URL):\n",
    "    \"\"\"\n",
    "    :param df:\n",
    "    :param base_url:\n",
    "    \"\"\"\n",
    "    # Make sure the original dataframe is not altered.\n",
    "    df = df.copy()\n",
    "    \n",
    "    # Add column with URLs to sequence logo.\n",
    "    def create_url(motif_id):\n",
    "        return '<img src=\"{}{}.png\" style=\"max-height:124px;\"></img>'.format(base_url, motif_id)\n",
    "    df[(\"Enrichment\", COLUMN_NAME_LOGO)] = list(map(create_url, df.index.get_level_values(COLUMN_NAME_MOTIF_ID)))\n",
    "    \n",
    "    # Truncate TargetGenes.\n",
    "    def truncate(col_val):\n",
    "        return sorted(col_val, key=op.itemgetter(1))[:top_target_genes]\n",
    "    df[(\"Enrichment\", COLUMN_NAME_TARGETS)] = list(map(truncate, df[(\"Enrichment\", COLUMN_NAME_TARGETS)]))\n",
    "    \n",
    "    MAX_COL_WIDTH = pd.get_option('display.max_colwidth')\n",
    "    pd.set_option('display.max_colwidth', -1)\n",
    "    display(HTML(df.head().to_html(escape=False)))\n",
    "    pd.set_option('display.max_colwidth', MAX_COL_WIDTH)"
   ]
  },
  {
   "cell_type": "code",
   "execution_count": null,
   "id": "eaa64f09-1ca4-4c3b-abf2-b667116e2ebe",
   "metadata": {},
   "outputs": [],
   "source": [
    "display_logos(df_motifs_INH.head())"
   ]
  },
  {
   "cell_type": "code",
   "execution_count": null,
   "id": "f70ba99d-cf0e-4e90-b242-3f8ddec82249",
   "metadata": {},
   "outputs": [],
   "source": [
    "regulons = df2regulons(df_motifs_INH)\n",
    "# Pickle these regulons.\n",
    "with open('./regulons.pkl', 'wb') as f:\n",
    "    pickle.dump(regulons, f)"
   ]
  },
  {
   "cell_type": "code",
   "execution_count": null,
   "id": "4515eb7d-7601-4e57-892f-a86bc0aaba96",
   "metadata": {},
   "outputs": [],
   "source": [
    "!pyscenic aucell \\\n",
    "    results/INH_filtered_scenic.loom \\\n",
    "    reg_INH.csv \\\n",
    "    --output pyscenic_INH_output.loom \\\n",
    "    --num_workers 6"
   ]
  },
  {
   "cell_type": "code",
   "execution_count": null,
   "id": "129eb302-207e-474b-a8cd-1b8329841c97",
   "metadata": {},
   "outputs": [],
   "source": [
    "# collect SCENIC AUCell output\n",
    "adata = sc.read_h5ad('results/INH_anndata.h5ad')\n",
    "lf = lp.connect('results/pyscenic_INH_output.loom', mode='r+', validate=False)\n",
    "auc_mtx_inh = pd.DataFrame(lf.ca.RegulonsAUC, index=lf.ca.CellID)\n",
    "lf.close()"
   ]
  },
  {
   "cell_type": "code",
   "execution_count": null,
   "id": "196c1d62-9268-4cdd-b554-16daad9d35af",
   "metadata": {},
   "outputs": [],
   "source": [
    "bin_mtx_inh, thresholds = binarize(auc_mtx_inh)\n",
    "thresholds.to_frame().rename(columns={0:'threshold'}).to_csv('onoff_thresholds.csv')"
   ]
  },
  {
   "cell_type": "code",
   "execution_count": null,
   "id": "28e7d00a-8e17-45a4-abbc-61c44163b899",
   "metadata": {},
   "outputs": [],
   "source": [
    "\n",
    "\n",
    "def palplot(pal, names, colors=None, size=1):\n",
    "    n = len(pal)\n",
    "    f, ax = plt.subplots(1, 1, figsize=(n * size, size))\n",
    "    ax.imshow(np.arange(n).reshape(1, n),\n",
    "              cmap=mpl.colors.ListedColormap(list(pal)),\n",
    "              interpolation=\"nearest\", aspect=\"auto\")\n",
    "    ax.set_xticks(np.arange(n) - .5)\n",
    "    ax.set_yticks([-.5, .5])\n",
    "    ax.set_xticklabels([])\n",
    "    ax.set_yticklabels([])\n",
    "    colors = n * ['k'] if colors is None else colors\n",
    "    for idx, (name, color) in enumerate(zip(names, colors)):\n",
    "        ax.text(0.0+idx, 0.0, name, color=color, horizontalalignment='center', verticalalignment='center')\n",
    "    return f\n",
    "\n",
    "N_COLORS = len(adata.obs.dataset.dtype.categories)\n",
    "COLORS = [color['color'] for color in mpl.rcParams[\"axes.prop_cycle\"]]\n",
    "\n",
    "### black/white palette\n",
    "cell_type_color_lut = dict(zip(adata.obs.dataset.dtype.categories, COLORS))\n",
    "bw_palette = sns.xkcd_palette(['white', 'black'])\n",
    "### cell type color palette\n",
    "sns.set()\n",
    "sns.set(font_scale=0.8)\n",
    "fig = palplot(sns.color_palette(COLORS[0:4]), adata.obs.dataset.dtype.categories, size=2.0)\n"
   ]
  },
  {
   "cell_type": "code",
   "execution_count": null,
   "id": "286750f3-0930-4bf9-92c5-1bc2eb92f157",
   "metadata": {},
   "outputs": [],
   "source": [
    "cell_id2_dataset_lut = adata.obs['dataset'].to_dict()\n",
    "cell_id2_dataset_lut"
   ]
  },
  {
   "cell_type": "code",
   "execution_count": null,
   "id": "9e266f52-af6e-41a9-9b23-efd2a506fb4e",
   "metadata": {},
   "outputs": [],
   "source": [
    "sns.set()\n",
    "sns.set(font_scale=1.0)\n",
    "sns.set_style('ticks', {'xtick.minor.size': 1, 'ytick.minor.size': 0.1})\n",
    "g = sns.clustermap(bin_mtx_inh.T, col_cluster=False,\n",
    "               col_colors=auc_mtx_inh.index.map(cell_id2_dataset_lut).map(cell_type_color_lut),\n",
    "               cmap=bw_palette, figsize=(10,10))\n",
    "g.ax_heatmap.set_xticklabels([])\n",
    "g.ax_heatmap.set_xticks([])\n",
    "g.ax_heatmap.set_xlabel('Cells')\n",
    "g.ax_heatmap.set_ylabel('Regulons')\n",
    "g.ax_col_colors.set_yticks([0.5])\n",
    "g.ax_col_colors.set_yticklabels(['Dataset'])\n",
    "g.cax.set_visible(False)"
   ]
  },
  {
   "cell_type": "code",
   "execution_count": null,
   "id": "108c790a-a1d1-40ec-8370-e5216aac3ba9",
   "metadata": {},
   "outputs": [],
   "source": [
    "### Calculate score of regulons based on dataset\n",
    "\n",
    "rss = regulon_specificity_scores(auc_mtx_inh, adata.obs.dataset)\n",
    "rss.to_csv('results/regulon_INH_dataset.csv'')"
   ]
  }
 ],
 "metadata": {
  "kernelspec": {
   "display_name": "Python 3 (ipykernel)",
   "language": "python",
   "name": "python3"
  },
  "language_info": {
   "codemirror_mode": {
    "name": "ipython",
    "version": 3
   },
   "file_extension": ".py",
   "mimetype": "text/x-python",
   "name": "python",
   "nbconvert_exporter": "python",
   "pygments_lexer": "ipython3",
   "version": "3.8.15"
  }
 },
 "nbformat": 4,
 "nbformat_minor": 5
}
