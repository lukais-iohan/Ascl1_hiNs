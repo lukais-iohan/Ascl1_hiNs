{
 "cells": [
  {
   "cell_type": "code",
   "execution_count": null,
   "id": "070cdded-33d2-4a6f-b784-1a115efbeef7",
   "metadata": {},
   "outputs": [],
   "source": [
    "# import dependencies\n",
    "import os\n",
    "import numpy as np\n",
    "import pandas as pd\n",
    "import scanpy as sc\n",
    "import loompy as lp\n",
    "from MulticoreTSNE import MulticoreTSNE as TSNE\n",
    "import json\n",
    "import base64\n",
    "import zlib\n",
    "from pyscenic.plotting import plot_binarization\n",
    "from pyscenic.export import add_scenic_metadata\n",
    "from pyscenic.cli.utils import load_signatures\n",
    "import matplotlib as mpl\n",
    "import matplotlib.pyplot as plt\n",
    "import seaborn as sns"
   ]
  },
  {
   "cell_type": "code",
   "execution_count": null,
   "id": "ec9ec1d7-65d4-44a1-b0fd-1fec8f6586a3",
   "metadata": {},
   "outputs": [],
   "source": [
    "### Script to get genes regulated by trasncription factors in EXC dataset\n",
    "\n",
    "# scenic output\n",
    "lf = lp.connect('results/pyscenic_EXC_output.loom', mode='r', validate=False )\n",
    "meta = json.loads(zlib.decompress(base64.b64decode( lf.attrs.MetaData )))\n",
    "exprMat = pd.DataFrame( lf[:,:], index=lf.ra.Gene, columns=lf.ca.CellID).T\n",
    "# create a dictionary of regulons:\n",
    "regulons = {}\n",
    "for i,r in pd.DataFrame(lf.ra.Regulons,index=lf.ra.Gene).iteritems():\n",
    "    regulons[i] =  list(r[r==1].index.values)"
   ]
  },
  {
   "cell_type": "code",
   "execution_count": null,
   "id": "5c1114cc-231f-4119-8944-ec159ca49444",
   "metadata": {},
   "outputs": [],
   "source": [
    "adjacencies = pd.read_csv(\"results/adj_EXC.csv\", index_col=False)"
   ]
  },
  {
   "cell_type": "code",
   "execution_count": null,
   "id": "7b36923b-9b59-4bac-8cf5-4371373be6b5",
   "metadata": {},
   "outputs": [],
   "source": [
    "from pyscenic.utils import modules_from_adjacencies\n",
    "modules = list(modules_from_adjacencies(adjacencies, exprMat))"
   ]
  },
  {
   "cell_type": "code",
   "execution_count": 17,
   "id": "db8540f3-a153-4174-842d-cc95b20992d4",
   "metadata": {},
   "outputs": [],
   "source": [
    "### Select transcription factors that have significant activity \n",
    "\n",
    "tf = [\"ATF4\" ,   \"ATF5\"  ,  \"BHLHE40\", \"CEBPB\" ,  \"ELF1\",    \"ERG\"  ,   \"ETS2\" ,   \"FOS\" ,    \n",
    "      \"FOXO1\" ,  \"FOXP1\"  , \"GLIS3\",   \"HMGA1\" ,  \"HMGA2\"  , \"IRF5\" ,   \"JUN\"  ,   \"KLF16\",   \n",
    "      \"MAF\"  ,   \"MAFK\" ,   \"MAZ\"  ,   \"MSX1\"  ,  \"MXD1\" ,  \"MYCN\"  ,  \"NFATC1\" , \"PITX1\"   ,\n",
    "      \"POU2F2\" , \"POU3F2\" , \"PURA\"  ,  \"REL\"  ,   \"SHOX\" ,   \"SMAD3\" ,  \"SP2\"  ,   \"STAT1\" ,  \n",
    "      \"TFAP2B\" , \"TFAP2C\" , \"THRB\"  ,  \"ZIC1\"  ,  \"ZNF555\" , \"ZNF853\" ]\n",
    "\n",
    "for i in range(0,len(tf)):\n",
    "    with open( tf[i]+'_regulon.txt', 'w') as f:\n",
    "        for item in regulons[tf[i]+'(+)']:\n",
    "            f.write(\"%s\\n\" % item)\n"
   ]
  },
  {
   "cell_type": "code",
   "execution_count": null,
   "id": "1417cb57-930b-4eea-b0f6-ad753169ec9c",
   "metadata": {},
   "outputs": [],
   "source": [
    "for i in range(0,len(tf)):\n",
    "    with open( tf[i]+'_regulon.txt', 'w') as f:\n",
    "        for item in regulons[tf[i]+'(+)']:\n",
    "            f.write(\"%s\\n\" % item)\n"
   ]
  },
  {
   "cell_type": "code",
   "execution_count": null,
   "id": "6ae5ac88-dcec-4f41-9dec-55e83b1092ca",
   "metadata": {},
   "outputs": [],
   "source": []
  }
 ],
 "metadata": {
  "kernelspec": {
   "display_name": "Python 3 (ipykernel)",
   "language": "python",
   "name": "python3"
  },
  "language_info": {
   "codemirror_mode": {
    "name": "ipython",
    "version": 3
   },
   "file_extension": ".py",
   "mimetype": "text/x-python",
   "name": "python",
   "nbconvert_exporter": "python",
   "pygments_lexer": "ipython3",
   "version": "3.8.15"
  }
 },
 "nbformat": 4,
 "nbformat_minor": 5
}
